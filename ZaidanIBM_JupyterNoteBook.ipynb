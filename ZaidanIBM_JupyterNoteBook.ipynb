{
 "cells": [
  {
   "cell_type": "markdown",
   "metadata": {},
   "source": [
    "<center>\n",
    "    <img src=\"https://s3-api.us-geo.objectstorage.softlayer.net/cf-courses-data/CognitiveClass/Logos/organization_logo/organization_logo.png\" width=\"300\" alt=\"cognitiveclass.ai logo\"  />\n",
    "</center>\n"
   ]
  },
  {
   "cell_type": "markdown",
   "metadata": {},
   "source": [
    "#### Add your code below following the instructions given in the course\n"
   ]
  },
  {
   "cell_type": "markdown",
   "metadata": {},
   "source": [
    "# My Jupyter Notebook on IBM Watson Studio"
   ]
  },
  {
   "cell_type": "markdown",
   "metadata": {},
   "source": [
    "###  **By Zaidan A. Dhman**  \n",
    "#### CRM trainer and Consultant\n"
   ]
  },
  {
   "cell_type": "markdown",
   "metadata": {},
   "source": [
    "#### _______________________________________________________________________________________________________________________________________________________________________________________________\n",
    "#### _I am interested in data science because I love to gain insights from data and manipulate and visualize data, Additionally, data science field totally fits my profile and skill sets_\n",
    "#### _______________________________________________________________________________________________________________________________________________________________________________________________\n"
   ]
  },
  {
   "cell_type": "markdown",
   "metadata": {},
   "source": [
    "<h3><font color=darkred>The following code calculate the triangle area </font> </h3>\n"
   ]
  },
  {
   "cell_type": "code",
   "execution_count": 4,
   "metadata": {},
   "outputs": [
    {
     "name": "stdout",
     "output_type": "stream",
     "text": [
      "2.25\n"
     ]
    }
   ],
   "source": [
    "def trarea(lenght, height):\n",
    "    return 1/2 * lenght * height \n",
    "\n",
    "print(trarea(3,1.5))"
   ]
  },
  {
   "cell_type": "markdown",
   "metadata": {},
   "source": [
    "1. Do my best to sucssed in the field of data \n",
    "2. Please review my assignment and grade me fairly \n",
    "\n",
    "\n",
    "<ul>\n",
    "  <li>One</li>\n",
    "  <li>two</li>\n",
    "  <li>Three</li>\n",
    "</ul>\n",
    "\n",
    "\n",
    "<table>\n",
    "  <tr>\n",
    "    <th>Mark down</th>\n",
    "    <th>Less</th>\n",
    "    <th>Pretty</th>\n",
    "  </tr>\n",
    "  <tr>\n",
    "    <td>Still</td>\n",
    "    <td>Render</td>\n",
    "    <td>Nicely</td>\n",
    "  </tr>\n",
    "  <tr>\n",
    "    <td>1</td>\n",
    "    <td>2</td>\n",
    "    <td>3</td>\n",
    "  </tr>\n",
    "</table>\n",
    "\n",
    "\n",
    "<a href=\"www.ibm.com\">www.refulancer.org</a>"
   ]
  },
  {
   "cell_type": "code",
   "execution_count": null,
   "metadata": {},
   "outputs": [],
   "source": []
  }
 ],
 "metadata": {
  "kernelspec": {
   "display_name": "Python",
   "language": "python",
   "name": "conda-env-python-py"
  },
  "language_info": {
   "codemirror_mode": {
    "name": "ipython",
    "version": 3
   },
   "file_extension": ".py",
   "mimetype": "text/x-python",
   "name": "python",
   "nbconvert_exporter": "python",
   "pygments_lexer": "ipython3",
   "version": "3.7.12"
  }
 },
 "nbformat": 4,
 "nbformat_minor": 4
}
